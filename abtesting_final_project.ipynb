{
 "cells": [
  {
   "cell_type": "markdown",
   "metadata": {},
   "source": [
    "My implementation of Udacity A/B Testing course final project (ref: https://classroom.udacity.com/courses/ud257).\n",
    "\n",
    "# Experiment Overview: Free Trial Screener\n",
    "\n",
    "At the time of this experiment, Udacity courses currently have two options on the course overview page: \"start free trial\", and \"access course materials\". If the student clicks \"start free trial\", they will be asked to enter their credit card information, and then they will be enrolled in a free trial for the paid version of the course. After 14 days, they will automatically be charged unless they cancel first. If the student clicks \"access course materials\", they will be able to view the videos and take the quizzes for free, but they will not receive coaching support or a verified certificate, and they will not submit their final project for feedback.\n",
    "\n",
    "In the experiment, Udacity tested a **change** where if the student clicked \"start free trial\", they were asked **how much time they had available to devote to the course**. If the student indicated 5 or more hours per week, they would be taken through the checkout process as usual. If they indicated fewer than 5 hours per week, a message would appear indicating that Udacity courses usually require a greater time commitment for successful completion, and suggesting that the student might like to access the course materials for free. At this point, the student would have the option to continue enrolling in the free trial, or access the course materials for free instead. This screenshot below shows what the experiment looks like.\n",
    "\n",
    "<img style=\"float: center;\" src=\"./plots/Final%20Project_%20Experiment%20Screenshot.png\" width=\"80%\"> \n",
    "\n",
    "\n",
    "The **hypothesis** was that this might set clearer expectations for students upfront, thus **reducing the number of frustrated students who left the free trial** because they didn't have enough time —**without significantly reducing the number of students to continue past the free trial and eventually complete the course**. If this hypothesis held true, Udacity could improve the overall student experience and improve coaches' capacity to support students who are likely to complete the course.\n",
    "\n",
    "\n",
    "The **unit of diversion is a cookie**, although if the student enrolls in the free trial, they are tracked by user-id from that point forward. The same user-id cannot enroll in the free trial twice. For users that do not enroll, their user-id is not tracked in the experiment, even if they were signed in when they visited the course overview page."
   ]
  },
  {
   "cell_type": "markdown",
   "metadata": {},
   "source": [
    "# Experiment Design\n",
    "\n",
    "## Metric Choice\n",
    "\n",
    "There are several metrics that can be chosen. \n",
    "\n",
    "**Note**:\n",
    "* Any place \"unique cookies\" are mentioned, the uniqueness is determined by day. (That is, the same cookie visiting on different days would be counted twice.)\n",
    "\n",
    "* User-ids are automatically unique since the site does not allow the same user-id to enroll twice.\n",
    "\n",
    "The definition and practical significance boundaries (in absolute changes) are given as follows:\n",
    "\n",
    "- Number of cookies: That is, number of unique cookies to view the course overview page. ($d_{min}=3000$)\n",
    "\n",
    "- Number of user-ids: That is, number of users who enroll in the free trial. ($d_{min}=50$)\n",
    "\n",
    "- Number of clicks: That is, number of unique cookies to click the \"Start free trial\" button (which happens before the free trial screener is trigger). ($d_{min}=240$)\n",
    "\n",
    "- Click-through-probability: That is, number of unique cookies to click the \"Start free trial\" button divided by number of unique cookies to view the course overview page. ($d_{min}=0.01$)\n",
    "\n",
    "- Gross conversion: That is, number of user-ids to complete checkout and enroll in the free trial divided by number of unique cookies to click the \"Start free trial\" button. ($d_{min}=0.01$)\n",
    "\n",
    "- Retention: That is, number of user-ids to remain enrolled past the 14-day boundary (and thus make at least one payment) divided by number of user-ids to complete checkout. ($d_{min}=0.01$)\n",
    "\n",
    "- Net conversion: That is, number of user-ids to remain enrolled past the 14-day boundary (and thus make at least one payment) divided by the number of unique cookies to click the \"Start free trial\" button. ($d_{min}=0.0075$)\n",
    "\n",
    "\n",
    "**Invariant metrics**\n",
    "\n",
    "1. **Number of cookies** (# unique cookies to view the course overview page)\n",
    "\n",
    "Number of cookies is recorded when users arrive at Udacity course overview page. It is not affected by the experiment which happens later. In addition, as unit of diversion, this metric is expected to be roughly evenly distributed among experiment and control group.\n",
    "\n",
    "2. **Number of clicks** (# unique cookies to click the \"Start free trial\" button)\n",
    "\n",
    "The action of clicking happens before the free trial screener is triggered, so it should be invariant among both groups. In addition, this metric is expected to be roughly evenly distributed among experiment and control group.\n",
    "\n",
    "3. **Click-through-probability** (# user-ids to enroll in free trial/# unique cookies to click the \"Start free trial\" button)\n",
    "\n",
    "Similarly, both the denominator and numerator happen before the free trial screener is triggered, so it should be invariant among both groups.\n",
    "\n",
    "\n",
    "**Evaluation metrics**\n",
    "\n",
    "Recall, the hypothesis is the change would **reduce the number of frustrated students who left the free trial** because they didn't have enough time —**without significantly reducing the number of students to continue past the free trial and eventually complete the course**.\n",
    "\n",
    "Therefore, the goal is to \n",
    "\n",
    "(a) reduce the number of users who leave the free trial (in experiment group)\n",
    "\n",
    "(b) keep the number of users who pay for courses roughly the same (in control and experiment group)\n",
    "\n",
    "(c) improve the overall student experience and improve coaches' capacity to support students who are likely to complete the course (high-level concept)\n",
    "\n",
    "\n",
    "1. **Gross conversion** (# user-ids to enroll in the free trial/# unique cookies to click the \"Start free trial\" button)\n",
    "\n",
    "If the hypothesis holds, gross conversion should be lower in experiment group. (Some users are persuaded not to take the free trial)\n",
    "\n",
    "2. **Retention** (# user-ids to remain enrolled past the 14-day boundary and thus make payment/# user-ids to enroll in free trial)\n",
    "\n",
    "If the hypothesis holds, gross conversion should be higher in experiment group. (The trial screener filters out the users who don't have enough time commitment, thus the remaining ones are more likely to complete the whole course and thus pay for the course)\n",
    "\n",
    "3. **Net conversion** (# user-ids to remain enrolled past the 14-day boundary and thus make payment/# unique cookies to click the \"Start free trial\" button)\n",
    "\n",
    "If the hypothesis holds, the net conversion should be higher in experiment group. (The trial screener should filter out some students who don't have enought study time, thus the probability of remaining enrolled past the 14-day boundary should be higher in experiment group.)"
   ]
  },
  {
   "cell_type": "markdown",
   "metadata": {},
   "source": [
    "## Measuring Standard Deviation\n",
    "\n",
    "For each of the metrics the standard deviation is calculated for a sample size of 5000 unique cookies visiting the course overview page. The calculation is based on the baseline values given by Udacity.\n",
    "\n",
    "<img style=\"float: center;\" src=\"./plots/baseline.png\" width=\"50%\"> \n",
    "\n",
    "\n",
    "The three evaluation metrics are all probabilities. Thus Binomial distribution could be used to estimate their standard deviations. \n",
    "\n",
    "The formula is $\\sqrt{\\cfrac{p*(1-p)}{n}}$, where $n$ is the denominator of each metric"
   ]
  },
  {
   "cell_type": "code",
   "execution_count": 1,
   "metadata": {},
   "outputs": [],
   "source": [
    "# baseline values\n",
    "pageviews = 40000\n",
    "clicks = 3200\n",
    "enrollments = 660\n",
    "ctp = 0.08\n",
    "enroll_click = 0.20625 # enroll/click, gross conversion\n",
    "pay_enroll = 0.53 # payment/enroll, retention\n",
    "pay_click = 0.1093125 # payment/click, net conversion"
   ]
  },
  {
   "cell_type": "code",
   "execution_count": 2,
   "metadata": {},
   "outputs": [
    {
     "name": "stdout",
     "output_type": "stream",
     "text": [
      "Standard deviation of gross conversion is 0.0202\n",
      "Standard deviation of retention is 0.0549\n",
      "Standard deviation of net conversion is 0.0156\n"
     ]
    }
   ],
   "source": [
    "import math\n",
    "n_sample = 5000\n",
    "ratio = n_sample/pageviews\n",
    "sd_gross_conversion = math.sqrt((enroll_click*(1-enroll_click)/clicks)/ratio)\n",
    "sd_retention = math.sqrt((pay_enroll*(1-pay_enroll)/enrollments)/ratio)\n",
    "sd_net_conversion = math.sqrt((pay_click*(1-pay_click)/clicks)/ratio)\n",
    "\n",
    "print(\"Standard deviation of gross conversion is {}\\n\\\n",
    "Standard deviation of retention is {}\\n\\\n",
    "Standard deviation of net conversion is {}\".format(round(sd_gross_conversion,4),\\\n",
    "                                                   round(sd_retention,4),\\\n",
    "                                                   round(sd_net_conversion,4)))"
   ]
  },
  {
   "cell_type": "markdown",
   "metadata": {},
   "source": [
    "**Expect the analytic estimates to be accurate?**\n",
    "\n",
    "When the **unit of diversion** is the same as the **unit of analysis**, the analytical standard deviation will match the empirical standard deviation, otherwise the empirically computed variability may be much higher than analytically computed one. \n",
    "\n",
    "**Note**:\n",
    "Unit of analysis is the denominator of the metric. Unit of diversion in this experiment is cookie.\n",
    "\n",
    "For **gross conversion** and **net conversion**, unit of diversion and unit of analysis are the same (both are cookie). For **retention**, unit of analysis is user-id which is different from unit of diversion. Therefore, the analytic estimates of standard deviation for **gross conversion** and **net conversion** would be close to empirical ones, while there may be large difference for **retention**. "
   ]
  },
  {
   "cell_type": "markdown",
   "metadata": {},
   "source": [
    "## Sizing\n",
    "\n",
    "###  Choosing Number of Samples given Power\n",
    "\n",
    "Using the analytic estimates of variance, how many pageviews total (across both groups) would you need to collect to adequately power the experiment? Use an alpha of 0.05 and a beta of 0.2.\n",
    "\n",
    "The calculation was done by online calculator https://www.evanmiller.org/ab-testing/sample-size.html."
   ]
  },
  {
   "cell_type": "code",
   "execution_count": 3,
   "metadata": {},
   "outputs": [
    {
     "data": {
      "text/html": [
       "<div>\n",
       "<style scoped>\n",
       "    .dataframe tbody tr th:only-of-type {\n",
       "        vertical-align: middle;\n",
       "    }\n",
       "\n",
       "    .dataframe tbody tr th {\n",
       "        vertical-align: top;\n",
       "    }\n",
       "\n",
       "    .dataframe thead th {\n",
       "        text-align: right;\n",
       "    }\n",
       "</style>\n",
       "<table border=\"1\" class=\"dataframe\">\n",
       "  <thead>\n",
       "    <tr style=\"text-align: right;\">\n",
       "      <th></th>\n",
       "      <th>Metric</th>\n",
       "      <th>Baseline</th>\n",
       "      <th>Minimum Detectable Effect</th>\n",
       "      <th>alpha</th>\n",
       "      <th>beta</th>\n",
       "      <th>Sample Size per group(calculated)</th>\n",
       "      <th>Total Sample Size</th>\n",
       "      <th>Total pageviews</th>\n",
       "    </tr>\n",
       "  </thead>\n",
       "  <tbody>\n",
       "    <tr>\n",
       "      <th>0</th>\n",
       "      <td>gross conversion</td>\n",
       "      <td>20.625%</td>\n",
       "      <td>0.0100</td>\n",
       "      <td>0.05</td>\n",
       "      <td>0.2</td>\n",
       "      <td>25,835 clicks</td>\n",
       "      <td>51,670 clicks</td>\n",
       "      <td>645,975 pageviews</td>\n",
       "    </tr>\n",
       "    <tr>\n",
       "      <th>1</th>\n",
       "      <td>retention</td>\n",
       "      <td>53%</td>\n",
       "      <td>0.0100</td>\n",
       "      <td>0.05</td>\n",
       "      <td>0.2</td>\n",
       "      <td>39,115 enrolls</td>\n",
       "      <td>78,230 enrolls</td>\n",
       "      <td>4,741,212 pageviews</td>\n",
       "    </tr>\n",
       "    <tr>\n",
       "      <th>2</th>\n",
       "      <td>net conversion</td>\n",
       "      <td>10.93125%</td>\n",
       "      <td>0.0075</td>\n",
       "      <td>0.05</td>\n",
       "      <td>0.2</td>\n",
       "      <td>27,413 clicks</td>\n",
       "      <td>54,826 clicks</td>\n",
       "      <td>685,325 pageviews</td>\n",
       "    </tr>\n",
       "  </tbody>\n",
       "</table>\n",
       "</div>"
      ],
      "text/plain": [
       "             Metric   Baseline  Minimum Detectable Effect  alpha  beta  \\\n",
       "0  gross conversion    20.625%                     0.0100   0.05   0.2   \n",
       "1         retention        53%                     0.0100   0.05   0.2   \n",
       "2    net conversion  10.93125%                     0.0075   0.05   0.2   \n",
       "\n",
       "  Sample Size per group(calculated) Total Sample Size      Total pageviews  \n",
       "0                     25,835 clicks     51,670 clicks    645,975 pageviews  \n",
       "1                    39,115 enrolls    78,230 enrolls  4,741,212 pageviews  \n",
       "2                     27,413 clicks     54,826 clicks    685,325 pageviews  "
      ]
     },
     "execution_count": 3,
     "metadata": {},
     "output_type": "execute_result"
    }
   ],
   "source": [
    "import pandas as pd\n",
    "pd.DataFrame({\"Metric\":[\"gross conversion\",\"retention\",\"net conversion\"],\"Baseline\":[\"20.625%\",\"53%\",\"10.93125%\"],\\\n",
    "              \"Minimum Detectable Effect\":[0.01,0.01,0.0075],\"alpha\":[0.05,0.05,0.05],\"beta\":[0.2,0.2,0.2],\\\n",
    "             \"Sample Size per group(calculated)\":[\"25,835 clicks\",\"39,115 enrolls\",\"27,413 clicks\"],\\\n",
    "             \"Total Sample Size\":[\"51,670 clicks\",\"78,230 enrolls\",\"54,826 clicks\"],\\\n",
    "             \"Total pageviews\":[\"645,975 pageviews\",\"4,741,212 pageviews\",\"685,325 pageviews\"]})"
   ]
  },
  {
   "cell_type": "markdown",
   "metadata": {},
   "source": [
    "The maximum of the total pageviews is 4,741,212 and thus this is the requried pageviews total."
   ]
  },
  {
   "cell_type": "markdown",
   "metadata": {},
   "source": [
    "### Choosing Duration vs. Exposure\n",
    "\n",
    "Udacity has 40,000 pageviews per day and the required pageviews total is 4,741,212. We need 4,741,212/40,000 = 119 days to run the experiment if we use 100% Udacity's traffic. This is unreasonably long and I should reconsider my earlier decision about evaluation metric choice. Retention is not an appropriate metric for the test. The evaluation metrics now reduce to **gross conversion** and **net conversion**. \n",
    "\n",
    "Now, the required pageviews total is 685,325. If we use 100% Udacity's traffic, 685,325/40,000 = 18 days are needed. This is a reasonable time length. However, it's a little bit risky since there is no more traffic for other tests. I believe setting the fraction of traffic exposed to be 0.8 would be reasonable. Given this, it would take 22 days to run the experiement (which is roughly 3 weeks, reasonable). "
   ]
  },
  {
   "cell_type": "markdown",
   "metadata": {},
   "source": [
    "# Experiment Analysis\n",
    "\n",
    "## Sanity Checks\n",
    "\n",
    "For each of the invariant metrics (**Number of cookies**, **Number of clicks**, **Click-through-probability**), I calculated the 95% confidence interval for the value I expect to observe, the actual observed value, and whether the metric passes my sanity check. "
   ]
  },
  {
   "cell_type": "markdown",
   "metadata": {},
   "source": [
    "**Number of cookies**\n",
    "\n",
    "- calculated by the data in `Pageviews` column\n",
    "- each cookie is randomly assigned to control or experiment group with probability 0.5\n",
    "- standard deviation of number of cookies: $\\sqrt{\\cfrac{0.5\\times0.5}{n_{ctrl}+n_{exp}}}$\n",
    "- margin of error: $SD\\times Zscore$\n",
    "- CI around 0.5: $[0.5-margin,0.5+margin]$\n",
    "- check whether observed fraction is within the interval"
   ]
  },
  {
   "cell_type": "code",
   "execution_count": 4,
   "metadata": {},
   "outputs": [
    {
     "data": {
      "text/html": [
       "<div>\n",
       "<style scoped>\n",
       "    .dataframe tbody tr th:only-of-type {\n",
       "        vertical-align: middle;\n",
       "    }\n",
       "\n",
       "    .dataframe tbody tr th {\n",
       "        vertical-align: top;\n",
       "    }\n",
       "\n",
       "    .dataframe thead th {\n",
       "        text-align: right;\n",
       "    }\n",
       "</style>\n",
       "<table border=\"1\" class=\"dataframe\">\n",
       "  <thead>\n",
       "    <tr style=\"text-align: right;\">\n",
       "      <th></th>\n",
       "      <th>Lower bound</th>\n",
       "      <th>Upper bound</th>\n",
       "      <th>Observed</th>\n",
       "    </tr>\n",
       "  </thead>\n",
       "  <tbody>\n",
       "    <tr>\n",
       "      <th>0</th>\n",
       "      <td>0.4988</td>\n",
       "      <td>0.5012</td>\n",
       "      <td>0.5006</td>\n",
       "    </tr>\n",
       "  </tbody>\n",
       "</table>\n",
       "</div>"
      ],
      "text/plain": [
       "   Lower bound  Upper bound  Observed\n",
       "0       0.4988       0.5012    0.5006"
      ]
     },
     "execution_count": 4,
     "metadata": {},
     "output_type": "execute_result"
    }
   ],
   "source": [
    "ctrl = pd.read_excel(\"./data/Final Project Results.xlsx\",sheet_name=\"Control\")\n",
    "exp = pd.read_excel(\"./data/Final Project Results.xlsx\",sheet_name=\"Experiment\")\n",
    "cookie_ctrl = ctrl['Pageviews']\n",
    "cookie_exp = exp['Pageviews']\n",
    "sd_cookie = math.sqrt(0.25/(cookie_ctrl.sum()+cookie_exp.sum()))\n",
    "m = 1.96 * sd_cookie\n",
    "CI_l, CI_u = 0.5-m, 0.5+m\n",
    "p_hat = cookie_ctrl.sum()/(cookie_exp.sum()+cookie_ctrl.sum())\n",
    "\n",
    "pd.DataFrame({\"Lower bound\":[round(CI_l,4)],\"Upper bound\":[round(CI_u,4)],\"Observed\":[round(p_hat,4)]})"
   ]
  },
  {
   "cell_type": "markdown",
   "metadata": {},
   "source": [
    "The confidence interval includes observed value, so the sanity check of Cookies passes."
   ]
  },
  {
   "cell_type": "markdown",
   "metadata": {},
   "source": [
    "**Number of clicks**\n",
    "\n",
    "- calculated by `Clicks` column\n",
    "- each group should have roughly the same number of clicks (probability is 0.5)\n",
    "- standard deviation of number of clicks: $\\sqrt{\\cfrac{0.5\\times0.5}{n_{ctrl}+n_{exp}}}$\n",
    "- margin of error: $SD\\times Zscore$\n",
    "- CI around 0.5: $[0.5-margin,0.5+margin]$\n",
    "- check whether observed fraction is within the interval"
   ]
  },
  {
   "cell_type": "code",
   "execution_count": 5,
   "metadata": {},
   "outputs": [
    {
     "data": {
      "text/html": [
       "<div>\n",
       "<style scoped>\n",
       "    .dataframe tbody tr th:only-of-type {\n",
       "        vertical-align: middle;\n",
       "    }\n",
       "\n",
       "    .dataframe tbody tr th {\n",
       "        vertical-align: top;\n",
       "    }\n",
       "\n",
       "    .dataframe thead th {\n",
       "        text-align: right;\n",
       "    }\n",
       "</style>\n",
       "<table border=\"1\" class=\"dataframe\">\n",
       "  <thead>\n",
       "    <tr style=\"text-align: right;\">\n",
       "      <th></th>\n",
       "      <th>Lower bound</th>\n",
       "      <th>Upper bound</th>\n",
       "      <th>Observed</th>\n",
       "    </tr>\n",
       "  </thead>\n",
       "  <tbody>\n",
       "    <tr>\n",
       "      <th>0</th>\n",
       "      <td>0.4959</td>\n",
       "      <td>0.5041</td>\n",
       "      <td>0.5005</td>\n",
       "    </tr>\n",
       "  </tbody>\n",
       "</table>\n",
       "</div>"
      ],
      "text/plain": [
       "   Lower bound  Upper bound  Observed\n",
       "0       0.4959       0.5041    0.5005"
      ]
     },
     "execution_count": 5,
     "metadata": {},
     "output_type": "execute_result"
    }
   ],
   "source": [
    "click_ctrl = ctrl['Clicks']\n",
    "click_exp = exp['Clicks']\n",
    "sd_click = math.sqrt(0.25/(click_ctrl.sum()+click_exp.sum()))\n",
    "m = 1.96 * sd_click\n",
    "CI_l, CI_u = 0.5-m, 0.5+m\n",
    "p_hat = click_ctrl.sum()/(click_ctrl.sum()+click_exp.sum())\n",
    "\n",
    "pd.DataFrame({\"Lower bound\":[round(CI_l,4)],\"Upper bound\":[round(CI_u,4)],\"Observed\":[round(p_hat,4)]})"
   ]
  },
  {
   "cell_type": "markdown",
   "metadata": {},
   "source": [
    "The confidence interval includes observed value, so the sanity check of Cookies passes."
   ]
  },
  {
   "cell_type": "markdown",
   "metadata": {},
   "source": [
    "**Click-through probability**\n",
    "\n",
    "- calculated by clicks/pageviews (CTP)\n",
    "- we are now comparing two samples with different observations, so we need to choose a standard deviation that gives us a good comparison of both -> pooled standard deviation\n",
    "- $\\hat{p}_{pool} = \\cfrac{click_{ctrl}+click_{exp}}{cookie_{ctrl}+cookie_{exp}}$\n",
    "- $SD_{pool} = \\sqrt{\\hat{p}_{pool}(1-\\hat{p}_{pool})(\\cfrac{1}{n_{ctrl}}+\\cfrac{1}{n_{exp}})}$\n",
    "- $\\hat{d} = \\hat{p}_{exp}-\\hat{p}_{ctrl}$, $\\hat{d} \\sim{} N(0,SD^2_{pool})$\n",
    "- margin of error: $SD_{pool}\\times1.96$\n",
    "- CI around 0: $[-margin,+margin]$\n",
    "- check whether $\\hat{d}$ is within the interval"
   ]
  },
  {
   "cell_type": "code",
   "execution_count": 6,
   "metadata": {},
   "outputs": [
    {
     "data": {
      "text/html": [
       "<div>\n",
       "<style scoped>\n",
       "    .dataframe tbody tr th:only-of-type {\n",
       "        vertical-align: middle;\n",
       "    }\n",
       "\n",
       "    .dataframe tbody tr th {\n",
       "        vertical-align: top;\n",
       "    }\n",
       "\n",
       "    .dataframe thead th {\n",
       "        text-align: right;\n",
       "    }\n",
       "</style>\n",
       "<table border=\"1\" class=\"dataframe\">\n",
       "  <thead>\n",
       "    <tr style=\"text-align: right;\">\n",
       "      <th></th>\n",
       "      <th>Lower bound</th>\n",
       "      <th>Upper bound</th>\n",
       "      <th>Observed</th>\n",
       "    </tr>\n",
       "  </thead>\n",
       "  <tbody>\n",
       "    <tr>\n",
       "      <th>0</th>\n",
       "      <td>-0.0013</td>\n",
       "      <td>0.0013</td>\n",
       "      <td>0.0001</td>\n",
       "    </tr>\n",
       "  </tbody>\n",
       "</table>\n",
       "</div>"
      ],
      "text/plain": [
       "   Lower bound  Upper bound  Observed\n",
       "0      -0.0013       0.0013    0.0001"
      ]
     },
     "execution_count": 6,
     "metadata": {},
     "output_type": "execute_result"
    }
   ],
   "source": [
    "tot_click_ctrl = click_ctrl.sum()\n",
    "tot_click_exp = click_exp.sum()\n",
    "tot_cookie_ctrl = cookie_ctrl.sum()\n",
    "tot_cookie_exp = cookie_exp.sum()\n",
    "p_exp = tot_click_exp/tot_cookie_exp\n",
    "p_ctrl = tot_click_ctrl/tot_cookie_ctrl\n",
    "d_hat = p_exp-p_ctrl\n",
    "p_pool = (tot_click_ctrl+tot_click_exp)/(tot_cookie_ctrl+tot_cookie_exp)\n",
    "sd_pool = math.sqrt(p_pool*(1-p_pool)*(1/tot_cookie_ctrl+1/tot_cookie_exp))\n",
    "m = sd_pool*1.96\n",
    "CI_l, CI_u = -m, m\n",
    "\n",
    "pd.DataFrame({\"Lower bound\":[round(CI_l,4)],\"Upper bound\":[round(CI_u,4)],\"Observed\":[round(d_hat,4)]})"
   ]
  },
  {
   "cell_type": "markdown",
   "metadata": {},
   "source": [
    "The confidence interval includes observed value, so the sanity check of Cookies passes."
   ]
  },
  {
   "cell_type": "markdown",
   "metadata": {},
   "source": [
    "## Result Analysis\n",
    "\n",
    "### Effect Size Tests\n",
    "\n",
    "For each of your evaluation metrics, computed a 95% confidence interval around the difference between the experiment and control group."
   ]
  },
  {
   "cell_type": "markdown",
   "metadata": {},
   "source": [
    "**Gross conversion**\n",
    "\n",
    "- $d_{min} = 0.01$\n",
    "- calculated by enrollment/click\n",
    "- $\\hat{gross}_{pool} = \\cfrac{enrollment_{ctrl}+enrollment_{exp}}{click_{ctrl}+click_{exp}}$\n",
    "- $SD_{pool} = \\sqrt{\\hat{gross}_{pool}(1-\\hat{gross}_{pool})(\\cfrac{1}{n_{ctrl}}+\\cfrac{1}{n_{exp}})}$\n",
    "- $\\hat{d} = \\hat{gross}_{exp}-\\hat{gross}_{ctrl}$, $\\hat{d} \\sim{} N(0,SD^2_{pool})$\n",
    "- margin of error: $SD_{pool}\\times1.96$\n",
    "- CI around true gross conversion: $[\\hat{d}-margin,\\hat{d}+margin]$\n",
    "- check whether 0 is within the interval"
   ]
  },
  {
   "cell_type": "code",
   "execution_count": 7,
   "metadata": {},
   "outputs": [
    {
     "data": {
      "text/html": [
       "<div>\n",
       "<style scoped>\n",
       "    .dataframe tbody tr th:only-of-type {\n",
       "        vertical-align: middle;\n",
       "    }\n",
       "\n",
       "    .dataframe tbody tr th {\n",
       "        vertical-align: top;\n",
       "    }\n",
       "\n",
       "    .dataframe thead th {\n",
       "        text-align: right;\n",
       "    }\n",
       "</style>\n",
       "<table border=\"1\" class=\"dataframe\">\n",
       "  <thead>\n",
       "    <tr style=\"text-align: right;\">\n",
       "      <th></th>\n",
       "      <th>Lower bound</th>\n",
       "      <th>Upper bound</th>\n",
       "      <th>Observed</th>\n",
       "    </tr>\n",
       "  </thead>\n",
       "  <tbody>\n",
       "    <tr>\n",
       "      <th>0</th>\n",
       "      <td>-0.0291</td>\n",
       "      <td>-0.012</td>\n",
       "      <td>-0.0206</td>\n",
       "    </tr>\n",
       "  </tbody>\n",
       "</table>\n",
       "</div>"
      ],
      "text/plain": [
       "   Lower bound  Upper bound  Observed\n",
       "0      -0.0291       -0.012   -0.0206"
      ]
     },
     "execution_count": 7,
     "metadata": {},
     "output_type": "execute_result"
    }
   ],
   "source": [
    "enroll_ctrl = ctrl['Enrollments']\n",
    "enroll_exp = exp['Enrollments']\n",
    "tot_enroll_ctrl = enroll_ctrl.sum()\n",
    "tot_enroll_exp = enroll_exp.sum()\n",
    "\n",
    "n = len(enroll_ctrl)-enroll_ctrl.isna().sum() # not every row has enrollment record\n",
    "tot_click_ctrl2 = click_ctrl[0:n].sum()\n",
    "tot_click_exp2 = click_exp[0:n].sum()\n",
    "gross_exp = tot_enroll_exp/tot_click_exp2\n",
    "gross_ctrl = tot_enroll_ctrl/tot_click_ctrl2\n",
    "d_hat = gross_exp-gross_ctrl\n",
    "gross_hat = (tot_enroll_ctrl+tot_enroll_exp)/(tot_click_ctrl2+tot_click_exp2)\n",
    "sd_pool = math.sqrt(gross_hat*(1-gross_hat)*(1/tot_click_ctrl2+1/tot_click_exp2))\n",
    "m = sd_pool*1.96\n",
    "CI_l, CI_u = d_hat-m, d_hat+m\n",
    "\n",
    "pd.DataFrame({\"Lower bound\":[round(CI_l,4)],\"Upper bound\":[round(CI_u,4)],\"Observed\":[round(d_hat,4)]})"
   ]
  },
  {
   "cell_type": "markdown",
   "metadata": {},
   "source": [
    "$0$ is not included in the CI => it's statistically significant (i.e. $H_0$ is rejected at 5% significance level).\n",
    "\n",
    "$d_{min} = 0.01$ (in absolute changes) is not included in the CI => it's practically significant. "
   ]
  },
  {
   "cell_type": "markdown",
   "metadata": {},
   "source": [
    "**Net conversion**\n",
    "\n",
    "- $d_{min} = 0.0075$\n",
    "- calculated by payment/click\n",
    "- $\\hat{net}_{pool} = \\cfrac{payment_{ctrl}+payment_{exp}}{click_{ctrl}+click_{exp}}$\n",
    "- $SD_{pool} = \\sqrt{\\hat{net}_{pool}(1-\\hat{net}_{pool})(\\cfrac{1}{n_{ctrl}}+\\cfrac{1}{n_{exp}})}$\n",
    "- $\\hat{d} = \\hat{net}_{exp}-\\hat{net}_{ctrl}$, $\\hat{d} \\sim{} N(0,SD^2_{pool})$\n",
    "- margin of error: $SD_{pool}\\times1.96$\n",
    "- CI around true net conversion: $[\\hat{d}-margin,\\hat{d}+margin]$\n",
    "- check whether 0 is within the interval"
   ]
  },
  {
   "cell_type": "code",
   "execution_count": 8,
   "metadata": {},
   "outputs": [
    {
     "data": {
      "text/html": [
       "<div>\n",
       "<style scoped>\n",
       "    .dataframe tbody tr th:only-of-type {\n",
       "        vertical-align: middle;\n",
       "    }\n",
       "\n",
       "    .dataframe tbody tr th {\n",
       "        vertical-align: top;\n",
       "    }\n",
       "\n",
       "    .dataframe thead th {\n",
       "        text-align: right;\n",
       "    }\n",
       "</style>\n",
       "<table border=\"1\" class=\"dataframe\">\n",
       "  <thead>\n",
       "    <tr style=\"text-align: right;\">\n",
       "      <th></th>\n",
       "      <th>Lower bound</th>\n",
       "      <th>Upper bound</th>\n",
       "      <th>Observed</th>\n",
       "    </tr>\n",
       "  </thead>\n",
       "  <tbody>\n",
       "    <tr>\n",
       "      <th>0</th>\n",
       "      <td>-0.0116</td>\n",
       "      <td>0.0019</td>\n",
       "      <td>-0.0049</td>\n",
       "    </tr>\n",
       "  </tbody>\n",
       "</table>\n",
       "</div>"
      ],
      "text/plain": [
       "   Lower bound  Upper bound  Observed\n",
       "0      -0.0116       0.0019   -0.0049"
      ]
     },
     "execution_count": 8,
     "metadata": {},
     "output_type": "execute_result"
    }
   ],
   "source": [
    "pay_ctrl = ctrl['Payments']\n",
    "pay_exp = exp['Payments']\n",
    "tot_pay_ctrl = pay_ctrl.sum()\n",
    "tot_pay_exp = pay_exp.sum()\n",
    "\n",
    "n = len(pay_ctrl)-pay_ctrl.isna().sum() # not every row has enrollment record\n",
    "tot_click_ctrl2 = click_ctrl[0:n].sum()\n",
    "tot_click_exp2 = click_exp[0:n].sum()\n",
    "net_exp = tot_pay_exp/tot_click_exp2\n",
    "net_ctrl = tot_pay_ctrl/tot_click_ctrl2\n",
    "d_hat = net_exp-net_ctrl\n",
    "net_hat = (tot_pay_ctrl+tot_pay_exp)/(tot_click_ctrl2+tot_click_exp2)\n",
    "sd_pool = math.sqrt(net_hat*(1-net_hat)*(1/tot_click_ctrl2+1/tot_click_exp2))\n",
    "m = sd_pool*1.96\n",
    "CI_l, CI_u = d_hat-m, d_hat+m\n",
    "\n",
    "pd.DataFrame({\"Lower bound\":[round(CI_l,4)],\"Upper bound\":[round(CI_u,4)],\"Observed\":[round(d_hat,4)]})"
   ]
  },
  {
   "cell_type": "markdown",
   "metadata": {},
   "source": [
    "$0$ is included in the CI => it's not statistically significant (i.e. $H_0$ is not rejected).\n",
    "\n",
    "$d_{min} = 0.0075$ (in absolute changes) is included in the CI => it's not practically significant. "
   ]
  },
  {
   "cell_type": "markdown",
   "metadata": {},
   "source": [
    "### Sign Tests\n",
    "\n",
    "For each of the evaluation metrics, conducted sign test using the day-by-day data, and reported the p-value of the sign test and whether the result is statistically significant."
   ]
  },
  {
   "cell_type": "markdown",
   "metadata": {},
   "source": [
    "**Gross conversion**\n",
    "\n",
    "- under $H_0$, the probability of gross conversion in experiment group > control group is 0.5\n",
    "- compute the number of days when gross conversion in experiemnt is larger than gross conversion in control"
   ]
  },
  {
   "cell_type": "code",
   "execution_count": 9,
   "metadata": {},
   "outputs": [
    {
     "data": {
      "text/html": [
       "<div>\n",
       "<style scoped>\n",
       "    .dataframe tbody tr th:only-of-type {\n",
       "        vertical-align: middle;\n",
       "    }\n",
       "\n",
       "    .dataframe tbody tr th {\n",
       "        vertical-align: top;\n",
       "    }\n",
       "\n",
       "    .dataframe thead th {\n",
       "        text-align: right;\n",
       "    }\n",
       "</style>\n",
       "<table border=\"1\" class=\"dataframe\">\n",
       "  <thead>\n",
       "    <tr style=\"text-align: right;\">\n",
       "      <th></th>\n",
       "      <th>Gross in exp&gt;Gross in control</th>\n",
       "      <th>Days</th>\n",
       "      <th>Two-tailed p-value</th>\n",
       "      <th>Statistically significant at 5%</th>\n",
       "    </tr>\n",
       "  </thead>\n",
       "  <tbody>\n",
       "    <tr>\n",
       "      <th>0</th>\n",
       "      <td>4</td>\n",
       "      <td>23</td>\n",
       "      <td>0.0026</td>\n",
       "      <td>True</td>\n",
       "    </tr>\n",
       "  </tbody>\n",
       "</table>\n",
       "</div>"
      ],
      "text/plain": [
       "   Gross in exp>Gross in control  Days  Two-tailed p-value  \\\n",
       "0                              4    23              0.0026   \n",
       "\n",
       "   Statistically significant at 5%  \n",
       "0                             True  "
      ]
     },
     "execution_count": 9,
     "metadata": {},
     "output_type": "execute_result"
    }
   ],
   "source": [
    "from scipy.stats import binom_test \n",
    "alpha=0.05\n",
    "\n",
    "click_exp2 = click_exp[0:n]\n",
    "click_ctrl2 = click_ctrl[0:n]\n",
    "gross_exp=[i/j for i,j in zip(enroll_exp,click_exp2)]\n",
    "gross_ctrl=[i/j for i,j in zip(enroll_ctrl,click_ctrl2)]\n",
    "positive_diff=sum([i>j for i,j in zip(gross_exp,gross_ctrl)])\n",
    "days=len(gross_exp)\n",
    "\n",
    "p_value=binom_test(positive_diff, n=days, p=0.5)\n",
    "pd.DataFrame({\"Gross in exp>Gross in control\":[positive_diff],\"Days\":[days],\\\n",
    "              \"Two-tailed p-value\":[round(p_value,4)],\\\n",
    "              \"Statistically significant at 5%\":p_value<alpha})"
   ]
  },
  {
   "cell_type": "markdown",
   "metadata": {},
   "source": [
    "Since the p-value is smaller than 0.05, we can reject $H_0$ at 5% significance level and conclude that observing 4 larger gross conversion in experiment group is not by chance."
   ]
  },
  {
   "cell_type": "markdown",
   "metadata": {},
   "source": [
    "**Net conversion**\n",
    "\n",
    "- under $H_0$, the probability of net conversion in experiment group > control group is 0.5\n",
    "- compute the number of days when net conversion in experiemnt is larger than net conversion in control"
   ]
  },
  {
   "cell_type": "code",
   "execution_count": 10,
   "metadata": {},
   "outputs": [
    {
     "data": {
      "text/html": [
       "<div>\n",
       "<style scoped>\n",
       "    .dataframe tbody tr th:only-of-type {\n",
       "        vertical-align: middle;\n",
       "    }\n",
       "\n",
       "    .dataframe tbody tr th {\n",
       "        vertical-align: top;\n",
       "    }\n",
       "\n",
       "    .dataframe thead th {\n",
       "        text-align: right;\n",
       "    }\n",
       "</style>\n",
       "<table border=\"1\" class=\"dataframe\">\n",
       "  <thead>\n",
       "    <tr style=\"text-align: right;\">\n",
       "      <th></th>\n",
       "      <th>Net in exp&gt;Net in control</th>\n",
       "      <th>Days</th>\n",
       "      <th>Two-tailed p-value</th>\n",
       "      <th>Statistically significant at 5%</th>\n",
       "    </tr>\n",
       "  </thead>\n",
       "  <tbody>\n",
       "    <tr>\n",
       "      <th>0</th>\n",
       "      <td>10</td>\n",
       "      <td>23</td>\n",
       "      <td>0.6776</td>\n",
       "      <td>False</td>\n",
       "    </tr>\n",
       "  </tbody>\n",
       "</table>\n",
       "</div>"
      ],
      "text/plain": [
       "   Net in exp>Net in control  Days  Two-tailed p-value  \\\n",
       "0                         10    23              0.6776   \n",
       "\n",
       "   Statistically significant at 5%  \n",
       "0                            False  "
      ]
     },
     "execution_count": 10,
     "metadata": {},
     "output_type": "execute_result"
    }
   ],
   "source": [
    "net_exp=[i/j for i,j in zip(pay_exp,click_exp2)]\n",
    "net_ctrl=[i/j for i,j in zip(pay_ctrl,click_ctrl2)]\n",
    "positive_diff=sum([i>j for i,j in zip(net_exp,net_ctrl)])\n",
    "\n",
    "p_value=binom_test(positive_diff, n=days, p=0.5)\n",
    "pd.DataFrame({\"Net in exp>Net in control\":[positive_diff],\"Days\":[days],\\\n",
    "              \"Two-tailed p-value\":[round(p_value,4)],\\\n",
    "              \"Statistically significant at 5%\":p_value<alpha})"
   ]
  },
  {
   "cell_type": "markdown",
   "metadata": {},
   "source": [
    "Since the p-value is larger than 0.05, we cannot reject $H_0$ and conclude that the difference is not significant."
   ]
  },
  {
   "cell_type": "markdown",
   "metadata": {},
   "source": [
    "## Summary\n",
    "\n",
    "Bonferroni correction was not used in my analysis. Bonferroni correction is a method to adjust the joint significance level for multiple tests under independence assumption. However, the two evaluation metrics (gross and net conversion) are quite closely related, so Bonferroni would be too conservative. \n",
    "\n",
    "The effect size test and sign test give the same result, that the difference of **gross conversion** is statistically significant but **net conversion** is not."
   ]
  },
  {
   "cell_type": "markdown",
   "metadata": {},
   "source": [
    "# Recommendation\n",
    "\n",
    "Recall, the **hypothesis** was that this might set clearer expectations for students upfront, thus **reducing the number of frustrated students who left the free trial** because they didn't have enough time —**without significantly reducing the number of students to continue past the free trial and eventually complete the course**.\n",
    "\n",
    "The analysis showed that a statistically and practically signficant decrease in **gross conversion** was observed but with no significant differences in **net conversion**. This translates to a decrease in enrollment not coupled to an increase in students staying for the requisite 14 days to trigger payment. Considering this, my recomendation is **not to launch**, at least before conducting follow-up experiments."
   ]
  },
  {
   "cell_type": "markdown",
   "metadata": {},
   "source": [
    "# Follow-Up Experiment: How to Reduce Early Cancellations\n",
    "\n",
    "The definition of \"early cancellation\" is that students quit the course within 14-days of free trial. An early cancellation is likely to be causued by frustration. However, the reason why students are frustrated is not necessarily concerning with time commitment. It could be not matching students' pre-mastered knowledge, or not matching students' learning expectation. There are two timepoints to implement strategy to reduce early cancellations, (a) pre-enrollment, (b) post-enrollment & pre-payment.\n",
    "\n",
    "As the experiment of asking time commitment, it is a strategy implemented pre-enrollment. This experiment only focused on the time commitment to the class and did not address other reasons why a student might become frustrated and cancel early. Even if the student was sincere in their response and dilligent in their study, they may become frustrated if they don't have the suggested pre-requisite skills. That is, their committed time may not be enough if they don't come in with the pre-requisite skill set. Adding a checklist of pre-requisite skills to the popup regarding time commitment may be informative. The setup of the new experiment should be the same as the one asking time commitment, except that a checklist is added before enrollment. Similarly, **gross conversion** is expected to be significantly smaller and **net conversion** is expected to be significantly larger in experiment group. \n",
    "\n",
    "\n",
    "For post-enrollment & pre-payment strategy, a reasonable approach would be to employ peer coaching/guidance by means of team formation so that the use of additional coaching resources is minimized while the original intent of the intervention could be best met. More specific, if a student has a team of other students which they could consult, discuss coursework with, they may be more likely to stick out the growing pains and stay for the long term.\n",
    "\n",
    "\n",
    "**Set up**\n",
    "\n",
    "Enrolled students will be randomly assigned to a control group in which they are not funnelled into a team, or an experiment group in which they are.\n",
    "\n",
    "**Hypothesis**\n",
    "\n",
    "Participation in a team will not increase the number of students enrolled beyond the 14-day free trial by a significant amount.\n",
    "\n",
    "**Unit of diversion**\n",
    "\n",
    "The unit of diversion will be **user-id** as the change takes place after a student creates an account and enrolls in a course.\n",
    "\n",
    "**Invariant metrics**\n",
    "\n",
    "The number of user-id. An equal distribution between experiment and control would be expected as a property of the setup.\n",
    "\n",
    "**Evaluation metrics**\n",
    "\n",
    "Retention. A statistically and practically significant increase in retention would indicate that the change is succesful.\n",
    "\n",
    "If a statistically and practically signifcant positive change in **retention** is observed, assuming an acceptable impact on overall Udacity resources (setting up and maintaining teams will require resource use), the experiment will be launched."
   ]
  },
  {
   "cell_type": "markdown",
   "metadata": {},
   "source": [
    "## References\n",
    "[1] https://github.com/shubhamlal11/Udacity-AB-Testing-Final-Project\n",
    "\n",
    "[2] https://github.com/alan-chengzhang/Udacity-A-B-Testing_-Notes-and-Final-Project\n",
    "\n",
    "[3] https://nancyyanyu.github.io/posts/8fdfc10f/#more"
   ]
  }
 ],
 "metadata": {
  "kernelspec": {
   "display_name": "Python 3",
   "language": "python",
   "name": "python3"
  },
  "language_info": {
   "codemirror_mode": {
    "name": "ipython",
    "version": 3
   },
   "file_extension": ".py",
   "mimetype": "text/x-python",
   "name": "python",
   "nbconvert_exporter": "python",
   "pygments_lexer": "ipython3",
   "version": "3.7.6"
  }
 },
 "nbformat": 4,
 "nbformat_minor": 4
}
